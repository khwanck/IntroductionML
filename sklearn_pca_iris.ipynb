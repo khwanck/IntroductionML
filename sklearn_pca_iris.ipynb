{
  "cells": [
    {
      "cell_type": "markdown",
      "metadata": {
        "Collapsed": "false",
        "id": "IpLQVTGBnUJv"
      },
      "source": [
        "## Unsupervised Learning: Principal Component Analysis (Iris dataset)\n",
        "* sklearn doc: https://scikit-learn.org/stable/modules/generated/sklearn.decomposition.PCA.html"
      ]
    },
    {
      "cell_type": "code",
      "execution_count": null,
      "metadata": {
        "Collapsed": "false",
        "id": "TICB-oVHnUJ3"
      },
      "outputs": [],
      "source": [
        "import pandas as pd\n",
        "import numpy as np\n",
        "import matplotlib.pyplot as plt\n",
        "import seaborn as sns\n",
        "%matplotlib inline\n",
        "%config InlineBackend.figure_format='retina'"
      ]
    },
    {
      "cell_type": "code",
      "execution_count": null,
      "metadata": {
        "Collapsed": "false",
        "id": "u71nshIwnUJ4"
      },
      "outputs": [],
      "source": [
        "import warnings\n",
        "warnings.filterwarnings('ignore')"
      ]
    },
    {
      "cell_type": "code",
      "execution_count": null,
      "metadata": {
        "Collapsed": "false",
        "id": "wArcQoG8nUJ4"
      },
      "outputs": [],
      "source": [
        "print(f'pandas  version = {pd.__version__}')\n",
        "print(f'numpy   version = {np.__version__}')\n",
        "print(f'seaborn version = {sns.__version__}')"
      ]
    },
    {
      "cell_type": "code",
      "execution_count": null,
      "metadata": {
        "Collapsed": "false",
        "id": "cph6ybnLnUJ5"
      },
      "outputs": [],
      "source": [
        "pd.Timestamp.now()"
      ]
    },
    {
      "cell_type": "code",
      "execution_count": null,
      "metadata": {
        "Collapsed": "false",
        "id": "c8hOWALPnUJ5",
        "scrolled": true
      },
      "outputs": [],
      "source": [
        "df=pd.read_csv('https://github.com/prasertcbs/basic-dataset/raw/master/iris.csv')\n",
        "df.sample(10)"
      ]
    },
    {
      "cell_type": "code",
      "execution_count": null,
      "metadata": {
        "Collapsed": "false",
        "id": "MLy4o-VrnUJ6"
      },
      "outputs": [],
      "source": [
        "df.species.value_counts()"
      ]
    },
    {
      "cell_type": "code",
      "execution_count": null,
      "metadata": {
        "Collapsed": "false",
        "id": "C0pF7iv0nUJ6"
      },
      "outputs": [],
      "source": [
        "df.columns"
      ]
    },
    {
      "cell_type": "code",
      "execution_count": null,
      "metadata": {
        "Collapsed": "false",
        "id": "PtRNVrQ9nUJ7"
      },
      "outputs": [],
      "source": [
        "cols=['sepal_length', 'sepal_width', 'petal_length', 'petal_width']"
      ]
    },
    {
      "cell_type": "code",
      "execution_count": null,
      "metadata": {
        "Collapsed": "false",
        "id": "GzPEuhJ0nUJ7"
      },
      "outputs": [],
      "source": [
        "df[cols].hist(layout=(1, len(cols)), figsize=(3 * len(cols), 3.5));"
      ]
    },
    {
      "cell_type": "code",
      "execution_count": null,
      "metadata": {
        "Collapsed": "false",
        "id": "SQjHfzqhnUJ7"
      },
      "outputs": [],
      "source": [
        "df.corr()"
      ]
    },
    {
      "cell_type": "code",
      "execution_count": null,
      "metadata": {
        "Collapsed": "false",
        "id": "4sN5N_NFnUJ8"
      },
      "outputs": [],
      "source": [
        "dcorr=df[cols].corr()\n",
        "# dcorr\n",
        "\n",
        "mask = np.zeros_like(dcorr)\n",
        "# mask.shape\n",
        "mask[np.triu_indices_from(mask)] = True\n",
        "\n",
        "fig, ax = plt.subplots(figsize=(7,5)) \n",
        "sns.heatmap(dcorr, cmap=sns.diverging_palette(10, 145, n=100), \n",
        "            vmin=-1, vmax=1, center=0, linewidths=1, annot=True, mask=mask, ax=ax);"
      ]
    },
    {
      "cell_type": "code",
      "execution_count": null,
      "metadata": {
        "Collapsed": "false",
        "id": "wN59F25onUJ8"
      },
      "outputs": [],
      "source": [
        "sns.pairplot(df, vars=cols, hue='species', markers=['o', '8', 's'],plot_kws={'alpha': .4});"
      ]
    },
    {
      "cell_type": "markdown",
      "metadata": {
        "Collapsed": "false",
        "id": "CVqFzpeanUJ9"
      },
      "source": [
        "## PCA"
      ]
    },
    {
      "cell_type": "code",
      "execution_count": null,
      "metadata": {
        "Collapsed": "false",
        "id": "jcQzWFYenUJ9"
      },
      "outputs": [],
      "source": [
        "from sklearn.decomposition import PCA\n",
        "from sklearn.preprocessing import StandardScaler # z-score"
      ]
    },
    {
      "cell_type": "code",
      "execution_count": null,
      "metadata": {
        "Collapsed": "false",
        "id": "_R5YcsEInUJ9"
      },
      "outputs": [],
      "source": [
        "df[cols]"
      ]
    },
    {
      "cell_type": "markdown",
      "metadata": {
        "Collapsed": "false",
        "id": "cdH-XrmUnUJ9"
      },
      "source": [
        "# StandardScaler (z-score)\n",
        "$z=\\frac{x_i-\\bar{x}}{sd}$"
      ]
    },
    {
      "cell_type": "code",
      "execution_count": null,
      "metadata": {
        "Collapsed": "false",
        "id": "pLFbfuMpnUJ-"
      },
      "outputs": [],
      "source": [
        "X=df[cols]\n",
        "scaler = StandardScaler()\n",
        "X_t=scaler.fit_transform(X)"
      ]
    },
    {
      "cell_type": "code",
      "execution_count": null,
      "metadata": {
        "Collapsed": "false",
        "id": "XTvD3zkpnUJ-"
      },
      "outputs": [],
      "source": [
        "scaler.mean_"
      ]
    },
    {
      "cell_type": "code",
      "execution_count": null,
      "metadata": {
        "Collapsed": "false",
        "id": "0vv_sH5BnUJ-"
      },
      "outputs": [],
      "source": [
        "df[cols].mean()"
      ]
    },
    {
      "cell_type": "code",
      "execution_count": null,
      "metadata": {
        "Collapsed": "false",
        "id": "DC10CwfxnUJ-"
      },
      "outputs": [],
      "source": [
        "scaler.var_"
      ]
    },
    {
      "cell_type": "code",
      "execution_count": null,
      "metadata": {
        "Collapsed": "false",
        "id": "vDv5Z6jmnUJ-"
      },
      "outputs": [],
      "source": [
        "np.sqrt(scaler.var_)"
      ]
    },
    {
      "cell_type": "code",
      "execution_count": null,
      "metadata": {
        "Collapsed": "false",
        "id": "v9G0KtfMnUJ_"
      },
      "outputs": [],
      "source": [
        "X_t[:5].round(4)"
      ]
    },
    {
      "cell_type": "code",
      "execution_count": null,
      "metadata": {
        "Collapsed": "false",
        "id": "-zRfFOZLnUJ_"
      },
      "outputs": [],
      "source": [
        "dz=pd.DataFrame(X_t.round(4), columns=[f'z_{c}' for c in cols])\n",
        "dz"
      ]
    },
    {
      "cell_type": "code",
      "execution_count": null,
      "metadata": {
        "Collapsed": "false",
        "id": "wPe0d_FqnUJ_"
      },
      "outputs": [],
      "source": [
        "pd.concat([df, dz], axis='columns')"
      ]
    },
    {
      "cell_type": "code",
      "execution_count": null,
      "metadata": {
        "Collapsed": "false",
        "id": "8I8qLJxvnUJ_"
      },
      "outputs": [],
      "source": [
        "(df['sepal_length']-scaler.mean_[0])/np.sqrt(scaler.var_[0])"
      ]
    },
    {
      "cell_type": "code",
      "execution_count": null,
      "metadata": {
        "Collapsed": "false",
        "id": "WFV1DOcFnUJ_"
      },
      "outputs": [],
      "source": [
        "X_t[:, 0]"
      ]
    },
    {
      "cell_type": "code",
      "execution_count": null,
      "metadata": {
        "Collapsed": "false",
        "id": "04uhV31-nUKA"
      },
      "outputs": [],
      "source": [
        "X_t[:, 0].mean().round(4)"
      ]
    },
    {
      "cell_type": "code",
      "execution_count": null,
      "metadata": {
        "Collapsed": "false",
        "id": "bofBspEknUKA"
      },
      "outputs": [],
      "source": [
        "np.sqrt(X_t[:, 0].var())"
      ]
    },
    {
      "cell_type": "code",
      "execution_count": null,
      "metadata": {
        "Collapsed": "false",
        "id": "Ws-hFIlCnUKA"
      },
      "outputs": [],
      "source": [
        "X.head()"
      ]
    },
    {
      "cell_type": "code",
      "execution_count": null,
      "metadata": {
        "Collapsed": "false",
        "id": "ZKwgo5nznUKA"
      },
      "outputs": [],
      "source": [
        "X_t[:5]"
      ]
    },
    {
      "cell_type": "code",
      "execution_count": null,
      "metadata": {
        "Collapsed": "false",
        "id": "ks9qpqqVnUKA"
      },
      "outputs": [],
      "source": [
        "X_t.shape"
      ]
    },
    {
      "cell_type": "code",
      "execution_count": null,
      "metadata": {
        "Collapsed": "false",
        "id": "53-cxMp_nUKB"
      },
      "outputs": [],
      "source": [
        "X_t.shape[1]"
      ]
    },
    {
      "cell_type": "code",
      "execution_count": null,
      "metadata": {
        "Collapsed": "false",
        "id": "DGDOyZS_nUKB"
      },
      "outputs": [],
      "source": [
        "pca = PCA(n_components=X_t.shape[1])\n",
        "# pca = PCA(n_components=2)\n",
        "\n",
        "pca.fit_transform(X_t)\n",
        "print(f'explained_variance (n_components={pca.n_components}) = {pca.explained_variance_}') # Eigenvalues\n",
        "print(f'explained_variance_ratio (n_components={pca.n_components}) = {pca.explained_variance_ratio_}')\n",
        "print(f'sum explained_variance_ratio = {np.sum(pca.explained_variance_ratio_)}')"
      ]
    },
    {
      "cell_type": "code",
      "execution_count": null,
      "metadata": {
        "Collapsed": "false",
        "id": "Df9Z1E10nUKB"
      },
      "outputs": [],
      "source": [
        "def scree_plot(X, n_components, with_cumulative=False, show_data_label=False, figsize=(10, 7)):\n",
        "    '''\n",
        "    PCA scree plot with cumulative\n",
        "    '''\n",
        "    scaler = StandardScaler()\n",
        "    X_t=scaler.fit_transform(X)\n",
        "\n",
        "    max_components = min(X.shape)\n",
        "    x=np.arange(1, n_components+1)\n",
        "    pca = PCA(n_components=max_components)\n",
        "    pca.fit_transform(X_t)\n",
        "    y1=pca.explained_variance_ratio_[:n_components]\n",
        "    y2=np.cumsum(pca.explained_variance_ratio_)[:n_components]\n",
        "    \n",
        "    plt.figure(figsize=figsize)\n",
        "    \n",
        "    if n_components > 20:\n",
        "        marker = None\n",
        "    else:\n",
        "        marker = 'o'\n",
        "    if with_cumulative:\n",
        "        plt.plot(x, y2, linestyle='--', marker=marker, label='cumulative', color='salmon')\n",
        "        \n",
        "    plt.plot(x, y1, linestyle='-', marker=marker, label='individual', color='deepskyblue')\n",
        "    plt.title('explained variance ratio')\n",
        "    plt.xlabel('# of components')\n",
        "    plt.ylabel('proportion of variance explained')\n",
        "    plt.legend()\n",
        "    if with_cumulative:\n",
        "        [plt.axhline(y=xl, color='.7', linestyle='--') for xl in [.8, .9, .95, 1]]\n",
        "    plt.grid(axis='x')\n",
        "\n",
        "    if show_data_label:\n",
        "        for n, v, cv in zip(np.nditer(x, flags=['refs_ok']), \n",
        "                            np.nditer(y1, flags=['refs_ok']),\n",
        "                            np.nditer(y2, flags=['refs_ok'])):\n",
        "                plt.text(n+.02, v+.02, f'{v*100:.2f}%', fontsize=10)\n",
        "                if with_cumulative:\n",
        "                    plt.text(n+.02, cv+.02, f'{cv*100:.2f}%', fontsize=10)\n",
        "                            "
      ]
    },
    {
      "cell_type": "code",
      "execution_count": null,
      "metadata": {
        "Collapsed": "false",
        "id": "xfhTvLBAnUKB"
      },
      "outputs": [],
      "source": [
        "scree_plot(X, 4, True, True)"
      ]
    },
    {
      "cell_type": "code",
      "execution_count": null,
      "metadata": {
        "Collapsed": "false",
        "id": "wjvu2qRonUKC"
      },
      "outputs": [],
      "source": [
        "scree_plot(X, 4, False, True, (20, 7))"
      ]
    },
    {
      "cell_type": "code",
      "execution_count": null,
      "metadata": {
        "Collapsed": "false",
        "id": "w1pxs3-FnUKC"
      },
      "outputs": [],
      "source": [
        "pca.components_ # Eigenvectors"
      ]
    },
    {
      "cell_type": "code",
      "execution_count": null,
      "metadata": {
        "Collapsed": "false",
        "id": "DW46SvxknUKC"
      },
      "outputs": [],
      "source": [
        "dpc=pd.DataFrame(pca.components_.T, \n",
        "                  index=cols,\n",
        "                  columns=[f'PC{n+1}' for n in range(pca.components_.shape[0])]).round(4) #Eigenvectors\n",
        "# dpc\n",
        "dpc.style.applymap(lambda e: 'background-color: yellow' if np.abs(e) > .5 else 'background-color: white')"
      ]
    },
    {
      "cell_type": "code",
      "execution_count": null,
      "metadata": {
        "Collapsed": "false",
        "id": "7MuDLOyjnUKC"
      },
      "outputs": [],
      "source": [
        "sns.heatmap(dpc, cmap=sns.diverging_palette(10, 145, n=100), linewidths=1, \n",
        "            center=0, annot=True, vmin=-1, vmax=1)"
      ]
    },
    {
      "cell_type": "code",
      "execution_count": null,
      "metadata": {
        "Collapsed": "false",
        "id": "TFuOiHesnUKD"
      },
      "outputs": [],
      "source": [
        "X_t[:5]"
      ]
    },
    {
      "cell_type": "code",
      "execution_count": null,
      "metadata": {
        "Collapsed": "false",
        "id": "TdenSR3NnUKD"
      },
      "outputs": [],
      "source": [
        "X_t.shape"
      ]
    },
    {
      "cell_type": "code",
      "execution_count": null,
      "metadata": {
        "Collapsed": "false",
        "id": "4MAye3KDnUKD"
      },
      "outputs": [],
      "source": [
        "pca.components_.T.shape"
      ]
    },
    {
      "cell_type": "code",
      "execution_count": null,
      "metadata": {
        "Collapsed": "false",
        "id": "9n4aIG2FnUKD"
      },
      "outputs": [],
      "source": [
        "# multiply matrix\n",
        "np.dot(X_t, pca.components_.T)[:5] # equals pca.transform(X_t)"
      ]
    },
    {
      "cell_type": "code",
      "execution_count": null,
      "metadata": {
        "Collapsed": "false",
        "id": "1Z-qGo3knUKF"
      },
      "outputs": [],
      "source": [
        "pca.transform(X_t)[:5]"
      ]
    },
    {
      "cell_type": "code",
      "execution_count": null,
      "metadata": {
        "Collapsed": "false",
        "id": "4YmgTOh5nUKF"
      },
      "outputs": [],
      "source": [
        "df.head()"
      ]
    },
    {
      "cell_type": "code",
      "execution_count": null,
      "metadata": {
        "Collapsed": "false",
        "id": "TLSaLOFLnUKG"
      },
      "outputs": [],
      "source": [
        "X_t[:1]"
      ]
    },
    {
      "cell_type": "code",
      "execution_count": null,
      "metadata": {
        "Collapsed": "false",
        "id": "Shp1nSI4nUKG"
      },
      "outputs": [],
      "source": [
        "pca.components_[:1]"
      ]
    },
    {
      "cell_type": "code",
      "execution_count": null,
      "metadata": {
        "Collapsed": "false",
        "id": "L6_jr9TpnUKG"
      },
      "outputs": [],
      "source": [
        "np.sum(X_t[:1] * pca.components_[:1])"
      ]
    },
    {
      "cell_type": "code",
      "execution_count": null,
      "metadata": {
        "Collapsed": "false",
        "id": "rRwn4AUXnUKG"
      },
      "outputs": [],
      "source": [
        "pca.n_components_"
      ]
    },
    {
      "cell_type": "code",
      "execution_count": null,
      "metadata": {
        "Collapsed": "false",
        "id": "5V8KRb9znUKH"
      },
      "outputs": [],
      "source": [
        "df[:5]"
      ]
    },
    {
      "cell_type": "code",
      "execution_count": null,
      "metadata": {
        "Collapsed": "false",
        "id": "s0nZqFH9nUKH"
      },
      "outputs": [],
      "source": [
        "dd=pd.concat([pd.DataFrame(pca.transform(X_t), \n",
        "                           columns=[f'PC{n}' for n in range(1, pca.n_components_ + 1)]), \n",
        "              df[['species']]], axis = 'columns')\n",
        "dd.head()"
      ]
    },
    {
      "cell_type": "markdown",
      "metadata": {
        "Collapsed": "false",
        "id": "nCelDvYgnUKH"
      },
      "source": [
        "### Plot PC1 and PC2"
      ]
    },
    {
      "cell_type": "code",
      "execution_count": null,
      "metadata": {
        "Collapsed": "false",
        "id": "kuNK2MafnUKH"
      },
      "outputs": [],
      "source": [
        "# pca = PCA(n_components=X.shape[1])\n",
        "pca = PCA(n_components=2)\n",
        "\n",
        "X_pca=pca.fit_transform(X_t)\n",
        "print(f'explained_variance (n_components={pca.n_components}) = {pca.explained_variance_}')\n",
        "print(f'explained_variance_ratio (n_components={pca.n_components}) = {pca.explained_variance_ratio_}')\n",
        "print(f'sum explained_variance_ratio = {np.sum(pca.explained_variance_ratio_)}')"
      ]
    },
    {
      "cell_type": "code",
      "execution_count": null,
      "metadata": {
        "Collapsed": "false",
        "id": "uhc6EIV5nUKI"
      },
      "outputs": [],
      "source": [
        "X_pca.shape"
      ]
    },
    {
      "cell_type": "code",
      "execution_count": null,
      "metadata": {
        "Collapsed": "false",
        "id": "rN30DM_WnUKI"
      },
      "outputs": [],
      "source": [
        "X_pca[:5]"
      ]
    },
    {
      "cell_type": "code",
      "execution_count": null,
      "metadata": {
        "Collapsed": "false",
        "id": "wFdq3m20nUKI"
      },
      "outputs": [],
      "source": [
        "fig = plt.figure(figsize=(8, 8))\n",
        "ax = fig.add_subplot(111)\n",
        "ax.scatter(X_pca[:, 0], X_pca[:, 1], alpha=.5, cmap='Set1', c=df.species.astype('category').cat.codes)\n",
        "\n",
        "ax.set_xlabel('PC1')\n",
        "ax.set_ylabel('PC2');"
      ]
    },
    {
      "cell_type": "markdown",
      "metadata": {
        "Collapsed": "false",
        "id": "sAkdnBU0nUKI"
      },
      "source": [
        "## biplot using yellowbrick package"
      ]
    },
    {
      "cell_type": "code",
      "execution_count": null,
      "metadata": {
        "Collapsed": "false",
        "id": "cL3a6AOynUKI"
      },
      "outputs": [],
      "source": [
        "# pip install yellowbrick\n",
        "import yellowbrick.features as yb\n",
        "visualizer = yb.PCA(scale=True, proj_features=True, proj_dim=2)\n",
        "visualizer.fit_transform(X)\n",
        "visualizer.show()"
      ]
    },
    {
      "cell_type": "code",
      "execution_count": null,
      "metadata": {
        "Collapsed": "false",
        "id": "InVgacQ1nUKI"
      },
      "outputs": [],
      "source": [
        "dpc=pd.DataFrame(pca.components_.T, \n",
        "                  index=cols,\n",
        "                  columns=[f'PC{n+1}' for n in range(pca.components_.shape[0])]).round(4) #Eigenvectors\n",
        "# dpc\n",
        "dpc.style.applymap(lambda e: 'background-color: yellow' if np.abs(e) > .5 else 'background-color: white')"
      ]
    },
    {
      "cell_type": "code",
      "execution_count": null,
      "metadata": {
        "Collapsed": "false",
        "id": "bI3Zz1ltnUKJ"
      },
      "outputs": [],
      "source": [
        "df.corr()"
      ]
    },
    {
      "cell_type": "markdown",
      "metadata": {
        "Collapsed": "false",
        "id": "WCbhPwkKnUKJ"
      },
      "source": [
        "### Plot 3D (PC1, PC2, PC3)"
      ]
    },
    {
      "cell_type": "code",
      "execution_count": null,
      "metadata": {
        "Collapsed": "false",
        "id": "JfU2ivFWnUKJ"
      },
      "outputs": [],
      "source": [
        "# This import registers the 3D projection, but is otherwise unused.\n",
        "from mpl_toolkits.mplot3d import Axes3D"
      ]
    },
    {
      "cell_type": "code",
      "execution_count": null,
      "metadata": {
        "Collapsed": "false",
        "id": "R_R4tvmrnUKJ"
      },
      "outputs": [],
      "source": [
        "# pca = PCA(n_components=X.shape[1])\n",
        "pca = PCA(n_components=3)\n",
        "\n",
        "X_pca=pca.fit_transform(X_t)\n",
        "print(f'explained_variance (n_components={pca.n_components}) = {pca.explained_variance_}')\n",
        "print(f'explained_variance_ratio (n_components={pca.n_components}) = {pca.explained_variance_ratio_}')\n",
        "print(f'sum explained_variance_ratio = {np.sum(pca.explained_variance_ratio_)}')"
      ]
    },
    {
      "cell_type": "code",
      "execution_count": null,
      "metadata": {
        "Collapsed": "false",
        "id": "KcuwInsynUKJ"
      },
      "outputs": [],
      "source": [
        "X_pca[:5]"
      ]
    },
    {
      "cell_type": "code",
      "execution_count": null,
      "metadata": {
        "Collapsed": "false",
        "id": "Ak2pj7KonUKK"
      },
      "outputs": [],
      "source": [
        "# switch back to inline mode\n",
        "%matplotlib inline"
      ]
    },
    {
      "cell_type": "code",
      "execution_count": null,
      "metadata": {
        "Collapsed": "false",
        "id": "riLOi062nUKK"
      },
      "outputs": [],
      "source": [
        "fig = plt.figure(figsize=(8, 8))\n",
        "ax = fig.add_subplot(111, projection='3d')\n",
        "ax.scatter(X_pca[:, 0], X_pca[:, 1], X_pca[:, 2], alpha=.5, cmap='Set1', c=df.species.astype('category').cat.codes)\n",
        "\n",
        "ax.set_xlabel('PC1')\n",
        "ax.set_ylabel('PC2')\n",
        "ax.set_zlabel('PC3');"
      ]
    },
    {
      "cell_type": "markdown",
      "metadata": {
        "id": "ujen8vMErhT6"
      },
      "source": [
        "# PCA as Noise Filtering"
      ]
    },
    {
      "cell_type": "code",
      "execution_count": null,
      "metadata": {
        "id": "mk9IeRM0r1N8"
      },
      "outputs": [],
      "source": [
        "...............\n",
        "digits = load_digits()\n",
        "digits.data.shape"
      ]
    },
    {
      "cell_type": "code",
      "execution_count": null,
      "metadata": {
        "id": "1_OHCYNprgKa"
      },
      "outputs": [],
      "source": [
        "def plot_digits(data):\n",
        "    fig, axes = plt.subplots(4, 10, figsize=(10, 4),\n",
        "                             subplot_kw={'xticks':[], 'yticks':[]},\n",
        "                             gridspec_kw=dict(hspace=0.1, wspace=0.1))\n",
        "    for i, ax in enumerate(axes.flat):\n",
        "        ax.imshow(data[i].reshape(8, 8),\n",
        "                  cmap='binary', interpolation='nearest',\n",
        "                  clim=(0, 16))\n",
        "plot_digits(digits.data)"
      ]
    },
    {
      "cell_type": "code",
      "execution_count": null,
      "metadata": {
        "id": "jZQoW43Ir4vr"
      },
      "outputs": [],
      "source": [
        "np.random.seed(42)\n",
        "noisy = np.random.normal(digits.data, 4)\n",
        "plot_digits(noisy)"
      ]
    },
    {
      "cell_type": "code",
      "execution_count": null,
      "metadata": {
        "id": "axFtlqpNr9vV"
      },
      "outputs": [],
      "source": [
        "pca = PCA(0.50).fit(noisy)\n",
        "pca.n_components_"
      ]
    },
    {
      "cell_type": "code",
      "execution_count": null,
      "metadata": {
        "id": "yyrKHSzMsC06"
      },
      "outputs": [],
      "source": [
        "components = pca.transform(noisy)\n",
        "filtered = pca.inverse_transform(components)\n",
        "plot_digits(filtered)"
      ]
    },
    {
      "cell_type": "markdown",
      "metadata": {
        "Collapsed": "false",
        "id": "L8D0gG-tnUKK"
      },
      "source": [
        "---"
      ]
    }
  ],
  "metadata": {
    "colab": {
      "provenance": []
    },
    "kernelspec": {
      "display_name": "Python 3",
      "language": "python",
      "name": "python3"
    },
    "language_info": {
      "codemirror_mode": {
        "name": "ipython",
        "version": 3
      },
      "file_extension": ".py",
      "mimetype": "text/x-python",
      "name": "python",
      "nbconvert_exporter": "python",
      "pygments_lexer": "ipython3",
      "version": "3.7.7"
    }
  },
  "nbformat": 4,
  "nbformat_minor": 0
}
