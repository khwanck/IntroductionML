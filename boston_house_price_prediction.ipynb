{
  "metadata": {
    "kernelspec": {
      "display_name": "Python 3",
      "language": "python",
      "name": "python3"
    },
    "language_info": {
      "name": "python",
      "version": "3.6.6",
      "mimetype": "text/x-python",
      "codemirror_mode": {
        "name": "ipython",
        "version": 3
      },
      "pygments_lexer": "ipython3",
      "nbconvert_exporter": "python",
      "file_extension": ".py"
    },
    "varInspector": {
      "cols": {
        "lenName": 16,
        "lenType": 16,
        "lenVar": 40
      },
      "kernels_config": {
        "python": {
          "delete_cmd_postfix": "",
          "delete_cmd_prefix": "del ",
          "library": "var_list.py",
          "varRefreshCmd": "print(var_dic_list())"
        },
        "r": {
          "delete_cmd_postfix": ") ",
          "delete_cmd_prefix": "rm(",
          "library": "var_list.r",
          "varRefreshCmd": "cat(var_dic_list()) "
        }
      },
      "types_to_exclude": [
        "module",
        "function",
        "builtin_function_or_method",
        "instance",
        "_Feature"
      ],
      "window_display": false
    },
    "colab": {
      "provenance": []
    }
  },
  "nbformat_minor": 0,
  "nbformat": 4,
  "cells": [
    {
      "cell_type": "markdown",
      "source": [
        "# Boston house price prediction"
      ],
      "metadata": {
        "_uuid": "a40153021c15eb45ff2026d456945763c79c11ef",
        "id": "eAEypea288fZ"
      }
    },
    {
      "cell_type": "markdown",
      "source": [
        "The problem that we are going to solve here is that given a set of features that describe a house in Boston, our machine learning model must predict the house price. To train our machine learning model with boston housing data, we will be using scikit-learn’s boston dataset.\n",
        "\n",
        "In this dataset, each row describes a boston town or suburb. There are 506 rows and 13 attributes (features) with a target column (price).\n",
        "https://archive.ics.uci.edu/ml/machine-learning-databases/housing/housing.names\n",
        "\n",
        "https://www.kaggle.com/code/khwanchaik/boston-house-price-prediction"
      ],
      "metadata": {
        "_uuid": "8731c498e69012e3b8e407399ab813f0f15fc732",
        "id": "CzxbAxX688fe"
      }
    },
    {
      "cell_type": "code",
      "source": [
        "# Importing the libraries \n",
        "import pandas as pd\n",
        "import numpy as np\n",
        "from sklearn import metrics\n",
        "import matplotlib.pyplot as plt\n",
        "import seaborn as sns\n",
        "%matplotlib inline"
      ],
      "metadata": {
        "_uuid": "c72424fcefad6b27f904bdc3301ff272baf3b212",
        "execution": {
          "iopub.status.busy": "2022-12-02T13:05:45.633798Z",
          "iopub.execute_input": "2022-12-02T13:05:45.634436Z",
          "iopub.status.idle": "2022-12-02T13:05:46.758399Z",
          "shell.execute_reply.started": "2022-12-02T13:05:45.634304Z",
          "shell.execute_reply": "2022-12-02T13:05:46.757357Z"
        },
        "trusted": true,
        "id": "e145GD7288fg"
      },
      "execution_count": null,
      "outputs": []
    },
    {
      "cell_type": "code",
      "source": [
        "# Importing the Boston Housing dataset\n",
        "from sklearn.datasets import load_boston\n",
        "boston = load_boston()"
      ],
      "metadata": {
        "scrolled": true,
        "_uuid": "7ad691aeebc4b3845eefa1ac8ca32fc4b631209d",
        "execution": {
          "iopub.status.busy": "2022-12-02T13:05:46.760271Z",
          "iopub.execute_input": "2022-12-02T13:05:46.760734Z",
          "iopub.status.idle": "2022-12-02T13:05:46.814815Z",
          "shell.execute_reply.started": "2022-12-02T13:05:46.760680Z",
          "shell.execute_reply": "2022-12-02T13:05:46.813984Z"
        },
        "trusted": true,
        "id": "wEhHWS5n88fi"
      },
      "execution_count": null,
      "outputs": []
    },
    {
      "cell_type": "code",
      "source": [
        "# Initializing the dataframe\n",
        "data = pd.DataFrame(boston.data)"
      ],
      "metadata": {
        "_uuid": "5853d3c3d9e4b52f37ea42665f573bfd92941ddf",
        "execution": {
          "iopub.status.busy": "2022-12-02T13:05:46.817079Z",
          "iopub.execute_input": "2022-12-02T13:05:46.817723Z",
          "iopub.status.idle": "2022-12-02T13:05:46.822556Z",
          "shell.execute_reply.started": "2022-12-02T13:05:46.817664Z",
          "shell.execute_reply": "2022-12-02T13:05:46.821383Z"
        },
        "trusted": true,
        "id": "7nlc3j4c88fj"
      },
      "execution_count": null,
      "outputs": []
    },
    {
      "cell_type": "code",
      "source": [
        "# See head of the dataset\n",
        "data.head()"
      ],
      "metadata": {
        "_uuid": "7b6f7755accf4b1c5f4e90a3d4aea7f41f89a482",
        "execution": {
          "iopub.status.busy": "2022-12-02T13:05:46.824137Z",
          "iopub.execute_input": "2022-12-02T13:05:46.824565Z",
          "iopub.status.idle": "2022-12-02T13:05:46.876621Z",
          "shell.execute_reply.started": "2022-12-02T13:05:46.824387Z",
          "shell.execute_reply": "2022-12-02T13:05:46.875689Z"
        },
        "trusted": true,
        "id": "MmZnsgBZ88fj"
      },
      "execution_count": null,
      "outputs": []
    },
    {
      "cell_type": "code",
      "source": [
        "#Adding the feature names to the dataframe\n",
        "data.columns = boston.feature_names\n",
        "data.head()"
      ],
      "metadata": {
        "_uuid": "6ecbc294bdbabbafee3893b5c66bd89709d6a069",
        "execution": {
          "iopub.status.busy": "2022-12-02T13:05:46.877777Z",
          "iopub.execute_input": "2022-12-02T13:05:46.878291Z",
          "iopub.status.idle": "2022-12-02T13:05:46.913911Z",
          "shell.execute_reply.started": "2022-12-02T13:05:46.878233Z",
          "shell.execute_reply": "2022-12-02T13:05:46.912887Z"
        },
        "trusted": true,
        "id": "Jqw3IUuv88fk"
      },
      "execution_count": null,
      "outputs": []
    },
    {
      "cell_type": "markdown",
      "source": [
        "CRIM per capita crime rate by town <br>\n",
        "ZN proportion of residential land zoned for lots over 25,000 sq.ft. <br>\n",
        "INDUS proportion of non-retail business acres per town <br>\n",
        "CHAS Charles River dummy variable (= 1 if tract bounds river; 0 otherwise) <br>\n",
        "NOX nitric oxides concentration (parts per 10 million) <br>\n",
        "RM average number of rooms per dwelling <br>\n",
        "AGE proportion of owner-occupied units built prior to 1940 <br>\n",
        "DIS weighted distances to five Boston employment centres <br>\n",
        "RAD index of accessibility to radial highways <br>\n",
        "TAX full-value property-tax rate per 10,000usd <br>\n",
        "PTRATIO pupil-teacher ratio by town <br>\n",
        "B 1000(Bk - 0.63)^2 where Bk is the proportion of blacks by town <br>\n",
        "LSTAT % lower status of the population <br>"
      ],
      "metadata": {
        "_uuid": "45b04cfb9bfc68cfab0ebf412ad402bac6fc5343",
        "id": "bie4srjk88fl"
      }
    },
    {
      "cell_type": "markdown",
      "source": [
        "Each record in the database describes a Boston suburb or town."
      ],
      "metadata": {
        "_uuid": "d16fdd57c4ee58a812935d5a3e1f4bfe5923e23e",
        "id": "e0XTIHrE88fm"
      }
    },
    {
      "cell_type": "code",
      "source": [
        "#Adding target variable to dataframe\n",
        "data['PRICE'] = boston.target \n",
        "# Median value of owner-occupied homes in $1000s"
      ],
      "metadata": {
        "_uuid": "293641aa8ae59c57884bd19c0ee6fc43143b19b8",
        "execution": {
          "iopub.status.busy": "2022-12-02T13:05:46.915389Z",
          "iopub.execute_input": "2022-12-02T13:05:46.915999Z",
          "iopub.status.idle": "2022-12-02T13:05:46.920931Z",
          "shell.execute_reply.started": "2022-12-02T13:05:46.915944Z",
          "shell.execute_reply": "2022-12-02T13:05:46.920090Z"
        },
        "trusted": true,
        "id": "-5HQAtQE88fm"
      },
      "execution_count": null,
      "outputs": []
    },
    {
      "cell_type": "code",
      "source": [
        "#Check the shape of dataframe\n",
        "data.shape"
      ],
      "metadata": {
        "_uuid": "b5edd7daea054f44df78e956846596fd9e82274f",
        "execution": {
          "iopub.status.busy": "2022-12-02T13:05:46.922296Z",
          "iopub.execute_input": "2022-12-02T13:05:46.922800Z",
          "iopub.status.idle": "2022-12-02T13:05:46.932315Z",
          "shell.execute_reply.started": "2022-12-02T13:05:46.922573Z",
          "shell.execute_reply": "2022-12-02T13:05:46.931682Z"
        },
        "trusted": true,
        "id": "ZorivVZI88fn"
      },
      "execution_count": null,
      "outputs": []
    },
    {
      "cell_type": "code",
      "source": [
        "data.columns"
      ],
      "metadata": {
        "_uuid": "264fd03458b3b349d2d52ac02b83e2e85b6190b2",
        "execution": {
          "iopub.status.busy": "2022-12-02T13:05:46.933455Z",
          "iopub.execute_input": "2022-12-02T13:05:46.933936Z",
          "iopub.status.idle": "2022-12-02T13:05:46.943317Z",
          "shell.execute_reply.started": "2022-12-02T13:05:46.933879Z",
          "shell.execute_reply": "2022-12-02T13:05:46.942424Z"
        },
        "trusted": true,
        "id": "rAXqlGw488fo"
      },
      "execution_count": null,
      "outputs": []
    },
    {
      "cell_type": "code",
      "source": [
        "data.dtypes"
      ],
      "metadata": {
        "_uuid": "1a745ede36d316c539a7c8d53ced27b9ccae85b2",
        "execution": {
          "iopub.status.busy": "2022-12-02T13:05:46.944249Z",
          "iopub.execute_input": "2022-12-02T13:05:46.944572Z",
          "iopub.status.idle": "2022-12-02T13:05:46.956538Z",
          "shell.execute_reply.started": "2022-12-02T13:05:46.944519Z",
          "shell.execute_reply": "2022-12-02T13:05:46.955957Z"
        },
        "trusted": true,
        "id": "j8EkKted88fo"
      },
      "execution_count": null,
      "outputs": []
    },
    {
      "cell_type": "code",
      "source": [
        "# Identifying the unique number of values in the dataset\n",
        "data.nunique()"
      ],
      "metadata": {
        "_uuid": "e86b006860c2efe29294aca3ba4419d9c758ced2",
        "execution": {
          "iopub.status.busy": "2022-12-02T13:05:46.957644Z",
          "iopub.execute_input": "2022-12-02T13:05:46.958055Z",
          "iopub.status.idle": "2022-12-02T13:05:46.971070Z",
          "shell.execute_reply.started": "2022-12-02T13:05:46.957994Z",
          "shell.execute_reply": "2022-12-02T13:05:46.970342Z"
        },
        "trusted": true,
        "id": "K3wXVbV688fp"
      },
      "execution_count": null,
      "outputs": []
    },
    {
      "cell_type": "code",
      "source": [
        "# Check for missing values\n",
        "data.isnull().sum()"
      ],
      "metadata": {
        "_uuid": "cef1bbf6ab92b5cd42a9a0771a24f48a09acf218",
        "execution": {
          "iopub.status.busy": "2022-12-02T13:05:46.972103Z",
          "iopub.execute_input": "2022-12-02T13:05:46.972446Z",
          "iopub.status.idle": "2022-12-02T13:05:46.977814Z",
          "shell.execute_reply.started": "2022-12-02T13:05:46.972396Z",
          "shell.execute_reply": "2022-12-02T13:05:46.977258Z"
        },
        "trusted": true,
        "id": "s64ORCJ388fp"
      },
      "execution_count": null,
      "outputs": []
    },
    {
      "cell_type": "code",
      "source": [
        "# See rows with missing values\n",
        "data[data.isnull().any(axis=1)]"
      ],
      "metadata": {
        "_uuid": "9d77b2f0e188a0bad15574340c61fad981a571b5",
        "execution": {
          "iopub.status.busy": "2022-12-02T13:05:46.978658Z",
          "iopub.execute_input": "2022-12-02T13:05:46.979005Z",
          "iopub.status.idle": "2022-12-02T13:05:46.993252Z",
          "shell.execute_reply.started": "2022-12-02T13:05:46.978971Z",
          "shell.execute_reply": "2022-12-02T13:05:46.992688Z"
        },
        "trusted": true,
        "id": "6FV81gDE88fp"
      },
      "execution_count": null,
      "outputs": []
    },
    {
      "cell_type": "code",
      "source": [
        "# Viewing the data statistics\n",
        "data.describe()"
      ],
      "metadata": {
        "scrolled": true,
        "_uuid": "fd9f1bad153f453931265ca2c2662a138a6737b3",
        "execution": {
          "iopub.status.busy": "2022-12-02T13:05:46.994096Z",
          "iopub.execute_input": "2022-12-02T13:05:46.994653Z",
          "iopub.status.idle": "2022-12-02T13:05:47.060809Z",
          "shell.execute_reply.started": "2022-12-02T13:05:46.994603Z",
          "shell.execute_reply": "2022-12-02T13:05:47.060048Z"
        },
        "trusted": true,
        "id": "ng-tazPu88fq"
      },
      "execution_count": null,
      "outputs": []
    },
    {
      "cell_type": "code",
      "source": [
        "# Finding out the correlation between the features\n",
        "corr = data.corr()\n",
        "corr.shape"
      ],
      "metadata": {
        "_uuid": "f35fcf15ca8787f7c2b27c9567e02bec12dd8232",
        "execution": {
          "iopub.status.busy": "2022-12-02T13:05:47.061977Z",
          "iopub.execute_input": "2022-12-02T13:05:47.062262Z",
          "iopub.status.idle": "2022-12-02T13:05:47.068033Z",
          "shell.execute_reply.started": "2022-12-02T13:05:47.062196Z",
          "shell.execute_reply": "2022-12-02T13:05:47.067261Z"
        },
        "trusted": true,
        "id": "C5cN_9fU88fq"
      },
      "execution_count": null,
      "outputs": []
    },
    {
      "cell_type": "code",
      "source": [
        "# Plotting the heatmap of correlation between features\n",
        "plt.figure(figsize=(20,20))\n",
        "sns.heatmap(corr, cbar=True, square= True, fmt='.1f', annot=True)"
      ],
      "metadata": {
        "_uuid": "5a2f669e42f1c4da0678d3012fe90996ce8dc476",
        "execution": {
          "iopub.status.busy": "2022-12-02T13:05:47.069464Z",
          "iopub.execute_input": "2022-12-02T13:05:47.069702Z",
          "iopub.status.idle": "2022-12-02T13:05:48.846862Z",
          "shell.execute_reply.started": "2022-12-02T13:05:47.069666Z",
          "shell.execute_reply": "2022-12-02T13:05:48.846198Z"
        },
        "trusted": true,
        "id": "B-4ZMBHP88fq"
      },
      "execution_count": null,
      "outputs": []
    },
    {
      "cell_type": "code",
      "source": [
        "# Spliting target variable and independent variables\n",
        "X = data.drop(['PRICE'], axis = 1)\n",
        "y = data['PRICE']"
      ],
      "metadata": {
        "scrolled": true,
        "_uuid": "e8b29232f337d8d269fdeab876ecf1b6cf692556",
        "execution": {
          "iopub.status.busy": "2022-12-02T13:05:48.847911Z",
          "iopub.execute_input": "2022-12-02T13:05:48.848207Z",
          "iopub.status.idle": "2022-12-02T13:05:48.853481Z",
          "shell.execute_reply.started": "2022-12-02T13:05:48.848147Z",
          "shell.execute_reply": "2022-12-02T13:05:48.852567Z"
        },
        "trusted": true,
        "id": "SpnTWu4P88fr"
      },
      "execution_count": null,
      "outputs": []
    },
    {
      "cell_type": "code",
      "source": [
        "# Splitting to training and testing data\n",
        "from sklearn.model_selection import train_test_split\n",
        "X_train, X_test, y_train, y_test = train_test_split(X,y, test_size = 0.2, random_state = 4)"
      ],
      "metadata": {
        "_uuid": "8c44aa7df1ef21f85c1baba09dbb5807c223c51a",
        "execution": {
          "iopub.status.busy": "2022-12-02T13:05:48.854252Z",
          "iopub.execute_input": "2022-12-02T13:05:48.854491Z",
          "iopub.status.idle": "2022-12-02T13:05:48.898881Z",
          "shell.execute_reply.started": "2022-12-02T13:05:48.854446Z",
          "shell.execute_reply": "2022-12-02T13:05:48.898246Z"
        },
        "trusted": true,
        "id": "oIS96hNG88fr"
      },
      "execution_count": null,
      "outputs": []
    },
    {
      "cell_type": "markdown",
      "source": [
        "# Linear regression"
      ],
      "metadata": {
        "_uuid": "af76da42b96f93ae8bd6234053182ecee90f255e",
        "id": "7Zj76ktk88fr"
      }
    },
    {
      "cell_type": "markdown",
      "source": [
        "#### Training the model"
      ],
      "metadata": {
        "_uuid": "f585ceafa562d74250058bf0ff05cdf8ccebb577",
        "id": "LGcvUrAQ88fr"
      }
    },
    {
      "cell_type": "code",
      "source": [
        "# Import library for Linear Regression\n",
        "from sklearn.linear_model import LinearRegression\n",
        "\n",
        "# Create a Linear regressor\n",
        "lm = LinearRegression()\n",
        "\n",
        "# Train the model using the training sets \n",
        "lm.fit(X_train, y_train)"
      ],
      "metadata": {
        "scrolled": true,
        "_uuid": "74c1df4cd4ba074712c8fe65802acc568e0b6ba9",
        "execution": {
          "iopub.status.busy": "2022-12-02T13:05:48.899806Z",
          "iopub.execute_input": "2022-12-02T13:05:48.900196Z",
          "iopub.status.idle": "2022-12-02T13:05:49.064523Z",
          "shell.execute_reply.started": "2022-12-02T13:05:48.900118Z",
          "shell.execute_reply": "2022-12-02T13:05:49.063976Z"
        },
        "trusted": true,
        "id": "AM_uH6rU88fs"
      },
      "execution_count": null,
      "outputs": []
    },
    {
      "cell_type": "code",
      "source": [
        "# Value of y intercept\n",
        "lm.intercept_"
      ],
      "metadata": {
        "_uuid": "998fb3c39c9a86eb1bcd4d921dd183a6491335d7",
        "execution": {
          "iopub.status.busy": "2022-12-02T13:05:49.065346Z",
          "iopub.execute_input": "2022-12-02T13:05:49.065671Z",
          "iopub.status.idle": "2022-12-02T13:05:49.070202Z",
          "shell.execute_reply.started": "2022-12-02T13:05:49.065634Z",
          "shell.execute_reply": "2022-12-02T13:05:49.069540Z"
        },
        "trusted": true,
        "id": "EG9nVT2188fs"
      },
      "execution_count": null,
      "outputs": []
    },
    {
      "cell_type": "code",
      "source": [
        "#Converting the coefficient values to a dataframe\n",
        "coeffcients = pd.DataFrame([X_train.columns,lm.coef_]).T\n",
        "coeffcients = coeffcients.rename(columns={0: 'Attribute', 1: 'Coefficients'})\n",
        "coeffcients"
      ],
      "metadata": {
        "_uuid": "014c51bc46bb492a44f253c3c04e113ddbc39af6",
        "execution": {
          "iopub.status.busy": "2022-12-02T13:05:49.071219Z",
          "iopub.execute_input": "2022-12-02T13:05:49.071605Z",
          "iopub.status.idle": "2022-12-02T13:05:49.093629Z",
          "shell.execute_reply.started": "2022-12-02T13:05:49.071565Z",
          "shell.execute_reply": "2022-12-02T13:05:49.092881Z"
        },
        "trusted": true,
        "id": "xatUiIfF88fs"
      },
      "execution_count": null,
      "outputs": []
    },
    {
      "cell_type": "markdown",
      "source": [
        "#### Model Evaluation"
      ],
      "metadata": {
        "_uuid": "0a51c9fddb34d1d64b08a1ae5b52a0fa5de220c2",
        "id": "yHG6fmaA88fs"
      }
    },
    {
      "cell_type": "code",
      "source": [
        "# Model prediction on train data\n",
        "y_pred = lm.predict(X_train)"
      ],
      "metadata": {
        "_uuid": "fbf88954f6ea78c339dfd4d1bbb4731fe1b3c489",
        "execution": {
          "iopub.status.busy": "2022-12-02T13:05:49.094574Z",
          "iopub.execute_input": "2022-12-02T13:05:49.094839Z",
          "iopub.status.idle": "2022-12-02T13:05:49.098714Z",
          "shell.execute_reply.started": "2022-12-02T13:05:49.094776Z",
          "shell.execute_reply": "2022-12-02T13:05:49.097992Z"
        },
        "trusted": true,
        "id": "pbFc713a88fs"
      },
      "execution_count": null,
      "outputs": []
    },
    {
      "cell_type": "code",
      "source": [
        "# Model Evaluation\n",
        "print('R^2:',metrics.r2_score(y_train, y_pred))\n",
        "print('Adjusted R^2:',1 - (1-metrics.r2_score(y_train, y_pred))*(len(y_train)-1)/(len(y_train)-X_train.shape[1]-1))\n",
        "print('MAE:',metrics.mean_absolute_error(y_train, y_pred))\n",
        "print('MSE:',metrics.mean_squared_error(y_train, y_pred))\n",
        "print('RMSE:',np.sqrt(metrics.mean_squared_error(y_train, y_pred)))"
      ],
      "metadata": {
        "scrolled": true,
        "_uuid": "40c2d862d0798c825949e665b23a0d93e7acbf22",
        "execution": {
          "iopub.status.busy": "2022-12-02T13:05:49.099590Z",
          "iopub.execute_input": "2022-12-02T13:05:49.100150Z",
          "iopub.status.idle": "2022-12-02T13:05:49.116549Z",
          "shell.execute_reply.started": "2022-12-02T13:05:49.100081Z",
          "shell.execute_reply": "2022-12-02T13:05:49.115730Z"
        },
        "trusted": true,
        "id": "j9RO3DnR88ft"
      },
      "execution_count": null,
      "outputs": []
    },
    {
      "cell_type": "markdown",
      "source": [
        "𝑅^2 : It is a measure of the linear relationship between X and Y. It is interpreted as the proportion of the variance in the dependent variable that is predictable from the independent variable.\n",
        "\n",
        "Adjusted 𝑅^2 :The adjusted R-squared compares the explanatory power of regression models that contain different numbers of predictors.\n",
        "\n",
        "MAE : It is the mean of the absolute value of the errors. It measures the difference between two continuous variables, here actual and predicted values of y. \n",
        "\n",
        "MSE: The mean square error (MSE) is just like the MAE, but squares the difference before summing them all instead of using the absolute value. \n",
        "\n",
        "RMSE: The mean square error (MSE) is just like the MAE, but squares the difference before summing them all instead of using the absolute value. \n",
        "\n",
        "\n",
        "\n",
        "\n"
      ],
      "metadata": {
        "_uuid": "e7eceb24e150551eff5f3c946772437ffcfdce8d",
        "id": "7YJBmGVK88ft"
      }
    },
    {
      "cell_type": "code",
      "source": [
        "# Visualizing the differences between actual prices and predicted values\n",
        "plt.scatter(y_train, y_pred)\n",
        "plt.xlabel(\"Prices\")\n",
        "plt.ylabel(\"Predicted prices\")\n",
        "plt.title(\"Prices vs Predicted prices\")\n",
        "plt.show()"
      ],
      "metadata": {
        "_uuid": "c00f457edc850676c7ac951f2a77994bc798f709",
        "execution": {
          "iopub.status.busy": "2022-12-02T13:05:49.117941Z",
          "iopub.execute_input": "2022-12-02T13:05:49.118530Z",
          "iopub.status.idle": "2022-12-02T13:05:49.247783Z",
          "shell.execute_reply.started": "2022-12-02T13:05:49.118469Z",
          "shell.execute_reply": "2022-12-02T13:05:49.246959Z"
        },
        "trusted": true,
        "id": "MHEkFGVN88ft"
      },
      "execution_count": null,
      "outputs": []
    },
    {
      "cell_type": "code",
      "source": [
        "# Checking residuals\n",
        "plt.scatter(y_pred,y_train-y_pred)\n",
        "plt.title(\"Predicted vs residuals\")\n",
        "plt.xlabel(\"Predicted\")\n",
        "plt.ylabel(\"Residuals\")\n",
        "plt.show()"
      ],
      "metadata": {
        "_uuid": "65b07c5f88bbc8863b56057568bb09443484d806",
        "execution": {
          "iopub.status.busy": "2022-12-02T13:05:49.249030Z",
          "iopub.execute_input": "2022-12-02T13:05:49.249550Z",
          "iopub.status.idle": "2022-12-02T13:05:49.389181Z",
          "shell.execute_reply.started": "2022-12-02T13:05:49.249470Z",
          "shell.execute_reply": "2022-12-02T13:05:49.388070Z"
        },
        "trusted": true,
        "id": "otlitHqL88ft"
      },
      "execution_count": null,
      "outputs": []
    },
    {
      "cell_type": "markdown",
      "source": [
        "There is no pattern visible in this plot and values are distributed equally around zero. So Linearity assumption is satisfied"
      ],
      "metadata": {
        "_uuid": "c399b5c2f66818caf7600c0f10338c0ce5afebc8",
        "id": "QknmR_1o88ft"
      }
    },
    {
      "cell_type": "code",
      "source": [
        "# Checking Normality of errors\n",
        "sns.distplot(y_train-y_pred)\n",
        "plt.title(\"Histogram of Residuals\")\n",
        "plt.xlabel(\"Residuals\")\n",
        "plt.ylabel(\"Frequency\")\n",
        "plt.show()"
      ],
      "metadata": {
        "_uuid": "9814045d0aaa99146a32653f4e5449a11b05ff8f",
        "execution": {
          "iopub.status.busy": "2022-12-02T13:05:49.391027Z",
          "iopub.execute_input": "2022-12-02T13:05:49.391519Z",
          "iopub.status.idle": "2022-12-02T13:05:49.580500Z",
          "shell.execute_reply.started": "2022-12-02T13:05:49.391461Z",
          "shell.execute_reply": "2022-12-02T13:05:49.579704Z"
        },
        "trusted": true,
        "id": "Rjw-6n6S88fu"
      },
      "execution_count": null,
      "outputs": []
    },
    {
      "cell_type": "markdown",
      "source": [
        "Here the residuals are normally distributed. So normality assumption is satisfied"
      ],
      "metadata": {
        "_uuid": "1d767c0ab0732c66838be5aecf56f23f859c1021",
        "id": "Gxe9P4oW88fu"
      }
    },
    {
      "cell_type": "markdown",
      "source": [
        "#### For test data"
      ],
      "metadata": {
        "_uuid": "a91b3c5ee714c81642b90d02760c7e10f827fd48",
        "id": "S_cGLLqD88fu"
      }
    },
    {
      "cell_type": "code",
      "source": [
        "# Predicting Test data with the model\n",
        "y_test_pred = lm.predict(X_test)"
      ],
      "metadata": {
        "_uuid": "d1c22569bf33b54bc8e67dd9768beeb48520c5f0",
        "execution": {
          "iopub.status.busy": "2022-12-02T13:05:49.581690Z",
          "iopub.execute_input": "2022-12-02T13:05:49.582236Z",
          "iopub.status.idle": "2022-12-02T13:05:49.587400Z",
          "shell.execute_reply.started": "2022-12-02T13:05:49.582157Z",
          "shell.execute_reply": "2022-12-02T13:05:49.586558Z"
        },
        "trusted": true,
        "id": "npmF_a9788fv"
      },
      "execution_count": null,
      "outputs": []
    },
    {
      "cell_type": "code",
      "source": [
        "# Model Evaluation\n",
        "acc_linreg = metrics.r2_score(y_test, y_test_pred)\n",
        "print('R^2:', acc_linreg)\n",
        "print('Adjusted R^2:',1 - (1-metrics.r2_score(y_test, y_test_pred))*(len(y_test)-1)/(len(y_test)-X_test.shape[1]-1))\n",
        "print('MAE:',metrics.mean_absolute_error(y_test, y_test_pred))\n",
        "print('MSE:',metrics.mean_squared_error(y_test, y_test_pred))\n",
        "print('RMSE:',np.sqrt(metrics.mean_squared_error(y_test, y_test_pred)))"
      ],
      "metadata": {
        "_uuid": "5bd7bf701f57b013f7b4bb3ee30debdf216647f6",
        "execution": {
          "iopub.status.busy": "2022-12-02T13:05:49.588677Z",
          "iopub.execute_input": "2022-12-02T13:05:49.589208Z",
          "iopub.status.idle": "2022-12-02T13:05:49.604794Z",
          "shell.execute_reply.started": "2022-12-02T13:05:49.589149Z",
          "shell.execute_reply": "2022-12-02T13:05:49.603842Z"
        },
        "trusted": true,
        "id": "PU1jO2pu88fv"
      },
      "execution_count": null,
      "outputs": []
    },
    {
      "cell_type": "markdown",
      "source": [
        "Here the model evaluations scores are almost matching with that of train data. So the model is not overfitting."
      ],
      "metadata": {
        "_uuid": "e7a9ed698fd4f011bae24ce4b966317de91f9d91",
        "id": "0wCt-Ti388fv"
      }
    }
  ]
}